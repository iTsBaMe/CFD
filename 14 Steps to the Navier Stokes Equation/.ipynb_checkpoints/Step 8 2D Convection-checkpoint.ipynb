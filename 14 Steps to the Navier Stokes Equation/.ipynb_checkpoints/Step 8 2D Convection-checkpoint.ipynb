{
 "cells": [
  {
   "cell_type": "code",
   "execution_count": 3,
   "id": "14280bfd",
   "metadata": {},
   "outputs": [],
   "source": [
    "import numpy as np\n",
    "import matplotlib.pyplot as plt\n",
    "from mpl_toolkits.mplot3d import Axes3D"
   ]
  },
  {
   "cell_type": "code",
   "execution_count": null,
   "id": "5e19ff4d",
   "metadata": {},
   "outputs": [],
   "source": [
    "nx =101\n",
    "ny = 101\n",
    "nt = 80\n",
    "c =1\n",
    "dx = 2/(nx-1)\n",
    "dy =2/(nx-1)\n",
    "sigma =0.2\n",
    "dt = sigma*dx\n",
    "\n",
    "x = linspace(0,2,dx)\n",
    "y= linspace(0,2,dy)\n",
    "\n",
    "u=np.ones((nx,ny))\n",
    "v=np.ones((nx,ny))\n",
    "un=np.ones((nx,ny))\n",
    "vn=np.ones((nx,ny))"
   ]
  }
 ],
 "metadata": {
  "kernelspec": {
   "display_name": "Python 3 (ipykernel)",
   "language": "python",
   "name": "python3"
  },
  "language_info": {
   "codemirror_mode": {
    "name": "ipython",
    "version": 3
   },
   "file_extension": ".py",
   "mimetype": "text/x-python",
   "name": "python",
   "nbconvert_exporter": "python",
   "pygments_lexer": "ipython3",
   "version": "3.9.12"
  }
 },
 "nbformat": 4,
 "nbformat_minor": 5
}

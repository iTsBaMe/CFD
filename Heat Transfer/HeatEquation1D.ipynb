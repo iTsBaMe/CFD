{
 "cells": [
  {
   "cell_type": "code",
   "execution_count": 2,
   "id": "e0ccfc4e",
   "metadata": {},
   "outputs": [],
   "source": [
    "from pylab import *\n",
    "l=0.1\n",
    "n = 100\n",
    "deltax = l/(n-1)"
   ]
  },
  {
   "cell_type": "code",
   "execution_count": 3,
   "id": "19ba421e",
   "metadata": {},
   "outputs": [],
   "source": [
    "T = zeros(n)\n",
    "T[0] = 100\n",
    "T[-1] = 50\n",
    "T_old = T.copy()"
   ]
  },
  {
   "cell_type": "code",
   "execution_count": 12,
   "id": "5d5ff816",
   "metadata": {},
   "outputs": [],
   "source": [
    "count  = 0\n",
    "error = 1\n",
    "epsilon = 1.E-6"
   ]
  },
  {
   "cell_type": "code",
   "execution_count": 14,
   "id": "76540ca2",
   "metadata": {},
   "outputs": [
    {
     "data": {
      "image/png": "[encoded data removed]",
      "text/plain": [
       "<Figure size 432x288 with 1 Axes>"
      ]
     },
     "metadata": {
      "needs_background": "light"
     },
     "output_type": "display_data"
    }
   ],
   "source": [
    "while error > epsilon:\n",
    "    for i in range(1,n-1):\n",
    "        T[i] = (T[i+1] + T[i-1])/2.0\n",
    "    error=sum(abs(T-T_old))\n",
    "    figure(1)\n",
    "    plot(count,error,'ko')\n",
    "    T_old=T.copy()\n",
    "    count=count+1\n",
    "        \n",
    "x = linspace(0,l,n)\n",
    "figure(2)\n",
    "plot(x,T,'r-o')\n",
    "xlabel('Length')\n",
    "ylabel('T')\n",
    "show()\n",
    "\n",
    "        "
   ]
  },
  {
   "cell_type": "code",
   "execution_count": null,
   "id": "069c9bb5",
   "metadata": {},
   "outputs": [],
   "source": []
  },
  {
   "cell_type": "code",
   "execution_count": null,
   "id": "4bc01cf0",
   "metadata": {},
   "outputs": [],
   "source": []
  }
 ],
 "metadata": {
  "kernelspec": {
   "display_name": "Python 3 (ipykernel)",
   "language": "python",
   "name": "python3"
  },
  "language_info": {
   "codemirror_mode": {
    "name": "ipython",
    "version": 3
   },
   "file_extension": ".py",
   "mimetype": "text/x-python",
   "name": "python",
   "nbconvert_exporter": "python",
   "pygments_lexer": "ipython3",
   "version": "3.9.12"
  }
 },
 "nbformat": 4,
 "nbformat_minor": 5
}
